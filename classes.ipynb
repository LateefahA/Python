{
 "cells": [
  {
   "cell_type": "markdown",
   "metadata": {},
   "source": [
    "classes that represent real-world things and situations, and you create objects based on these classes.\n",
    "Making an object from a class is called instantiation, and you work with instances of a class."
   ]
  },
  {
   "cell_type": "markdown",
   "metadata": {},
   "source": [
    "Creating and Using a Class\n",
    "functions inside a classa re called methods"
   ]
  },
  {
   "cell_type": "code",
   "execution_count": 1,
   "metadata": {},
   "outputs": [
    {
     "name": "stdout",
     "output_type": "stream",
     "text": [
      "My dog's name is Willie.\n",
      "My dog is 6 years old.\n"
     ]
    }
   ],
   "source": [
    "class Dog:\n",
    "    \"\"\"A simple attempt to model a dog.\"\"\"\n",
    "\n",
    "    def __init__(self, name, age):  #used to make instances of a class\n",
    "        \"\"\"Initialize name and age attributes.\"\"\"\n",
    "        self.name = name\n",
    "        self.age = age\n",
    "\n",
    "    def sit(self):\n",
    "        \"\"\"Simulate a dog sitting in response to a command.\"\"\"\n",
    "        print(f\"{self.name} is now sitting.\")\n",
    "\n",
    "    def roll_over(self):\n",
    "        \"\"\"Simulate rolling over in response to a command.\"\"\"\n",
    "        print(f\"{self.name} rolled over!\")\n",
    "\n",
    "my_dog = Dog('Willie', 6)\n",
    "print(f\"My dog's name is {my_dog.name}.\")\n",
    "print(f\"My dog is {my_dog.age} years old.\")\n"
   ]
  },
  {
   "cell_type": "markdown",
   "metadata": {},
   "source": [
    "Calling Methods"
   ]
  },
  {
   "cell_type": "code",
   "execution_count": 3,
   "metadata": {},
   "outputs": [
    {
     "name": "stdout",
     "output_type": "stream",
     "text": [
      "Willie is now sitting.\n",
      "Willie rolled over!\n"
     ]
    }
   ],
   "source": [
    "my_dog = Dog('Willie', 6)\n",
    "my_dog.sit()\n",
    "my_dog.roll_over()"
   ]
  },
  {
   "cell_type": "markdown",
   "metadata": {},
   "source": [
    "Creating Multiple Instances"
   ]
  },
  {
   "cell_type": "code",
   "execution_count": 4,
   "metadata": {},
   "outputs": [
    {
     "name": "stdout",
     "output_type": "stream",
     "text": [
      "My dog's name is Willie.\n",
      "My dog is 6 years old.\n",
      "Willie is now sitting.\n",
      "\n",
      "Your dog's name is Lucy.\n",
      "Your dog is 3 years old.\n",
      "Lucy is now sitting.\n"
     ]
    }
   ],
   "source": [
    "my_dog = Dog('Willie', 6)\n",
    "your_dog = Dog('Lucy', 3)\n",
    "\n",
    "print(f\"My dog's name is {my_dog.name}.\")\n",
    "print(f\"My dog is {my_dog.age} years old.\")\n",
    "my_dog.sit()\n",
    "\n",
    "print(f\"\\nYour dog's name is {your_dog.name}.\")\n",
    "print(f\"Your dog is {your_dog.age} years old.\")\n",
    "your_dog.sit()"
   ]
  },
  {
   "cell_type": "markdown",
   "metadata": {},
   "source": [
    "exercise 9.1 to 9.3"
   ]
  },
  {
   "cell_type": "code",
   "execution_count": 18,
   "metadata": {},
   "outputs": [
    {
     "name": "stdout",
     "output_type": "stream",
     "text": [
      "The restaurant is open\n",
      "The name of the restaurant is Manjaros and the cuisine is Halal\n",
      "\n",
      "the restaurant name is Manjaros and the cuisine is Halal\n",
      "The restaurant is open\n"
     ]
    }
   ],
   "source": [
    "class Restaurant():\n",
    "    '''A class to initialize the restaurant name aand cuisine type'''\n",
    "\n",
    "    def __init__(self, restaurant_name, cuisine_type):\n",
    "        self.restaurant_name = restaurant_name\n",
    "        self.cuisine_type = cuisine_type\n",
    "\n",
    "    def describe_restaurant(self):\n",
    "        '''Describes the restaurant'''\n",
    "        print(f\"The name of the restaurant is {self.restaurant_name} and the cuisine is {self.cuisine_type}\")\n",
    "        \n",
    "    def open_restaurant(self):\n",
    "        '''Displays if restaurant is open'''\n",
    "        print(f\"The restaurant is open\")\n",
    "\n",
    "food = Restaurant('Manjaros', 'Halal')\n",
    "\n",
    "food.open_restaurant()\n",
    "food.describe_restaurant()\n",
    "\n",
    "print(f\"\\nthe restaurant name is {food.restaurant_name} and the cuisine is {food.cuisine_type}\")\n",
    "food.open_restaurant()\n",
    "\n"
   ]
  },
  {
   "cell_type": "code",
   "execution_count": 20,
   "metadata": {},
   "outputs": [
    {
     "name": "stdout",
     "output_type": "stream",
     "text": [
      "The name of the restaurant is Manjaros and the cuisine is Halal\n",
      "The name of the restaurant is My_Lahore and the cuisine is Indian\n",
      "The name of the restaurant is Dixy_Chicken and the cuisine is fast_food\n"
     ]
    }
   ],
   "source": [
    "food = Restaurant('Manjaros', 'Halal')\n",
    "food_1 = Restaurant('My_Lahore', 'Indian')\n",
    "food_2 = Restaurant('Dixy_Chicken', 'fast_food')\n",
    "\n",
    "food.describe_restaurant()\n",
    "food_1.describe_restaurant()\n",
    "food_2.describe_restaurant()\n"
   ]
  },
  {
   "cell_type": "code",
   "execution_count": 29,
   "metadata": {},
   "outputs": [
    {
     "name": "stdout",
     "output_type": "stream",
     "text": [
      "welcome Lateefat\n",
      "\n",
      "Your details are:\n",
      "First_name : Lateefat, last_name : Arogundade\n",
      "You live in Leeds and your hobby is sleeping\n"
     ]
    }
   ],
   "source": [
    "class User():\n",
    "    '''A class for user profile'''\n",
    "    def __init__(self, first_name, last_name, hobby, city):\n",
    "        '''Displays user info'''\n",
    "        self.first_name = first_name\n",
    "        self.last_name = last_name\n",
    "        self.hobby = hobby\n",
    "        self.city = city\n",
    "\n",
    "    def describe_user(self):\n",
    "        '''decribes the user'''\n",
    "        print(f\"\\nYour details are:\")\n",
    "        print(f\"First_name : {self.first_name.title()}, last_name : {self.last_name.title()}\")\n",
    "        print(f\"You live in {self.city} and your hobby is {self.hobby}\")\n",
    "\n",
    "    def greet_user(self):\n",
    "        '''greets user'''\n",
    "        print(f\"welcome {self.first_name.title()}\")\n",
    "\n",
    "name = User('lateefat', 'arogundade', 'sleeping', 'Leeds')\n",
    "name.greet_user()  \n",
    "name.describe_user()\n",
    "    "
   ]
  },
  {
   "cell_type": "markdown",
   "metadata": {},
   "source": [
    "Working with Classes and Instances"
   ]
  },
  {
   "cell_type": "code",
   "execution_count": 1,
   "metadata": {},
   "outputs": [
    {
     "name": "stdout",
     "output_type": "stream",
     "text": [
      "2024 Audi A4\n"
     ]
    }
   ],
   "source": [
    "class Car:\n",
    "    \"\"\"A simple attempt to represent a car.\"\"\"\n",
    "\n",
    "    def __init__(self, make, model, year):\n",
    "        \"\"\"Initialize attributes to describe a car.\"\"\"\n",
    "        self.make = make\n",
    "        self.model = model\n",
    "        self.year = year\n",
    "\n",
    "    def get_descriptive_name(self):\n",
    "        \"\"\"Return a neatly formatted descriptive name.\"\"\"\n",
    "        long_name = f\"{self.year} {self.make} {self.model}\"\n",
    "        return long_name.title()\n",
    "    \n",
    "my_new_car = Car('audi', 'a4', 2024)\n",
    "print(my_new_car.get_descriptive_name())"
   ]
  },
  {
   "cell_type": "markdown",
   "metadata": {},
   "source": [
    "Setting a Default Value for an Attribute"
   ]
  },
  {
   "cell_type": "code",
   "execution_count": 2,
   "metadata": {},
   "outputs": [
    {
     "name": "stdout",
     "output_type": "stream",
     "text": [
      "2024 Audi A4\n",
      "This car has 0 miles on it.\n"
     ]
    }
   ],
   "source": [
    "class Car:\n",
    "    \"\"\"A simple attempt to represent a car.\"\"\"\n",
    "\n",
    "    def __init__(self, make, model, year):\n",
    "        \"\"\"Initialize attributes to describe a car.\"\"\"\n",
    "        self.make = make\n",
    "        self.model = model\n",
    "        self.year = year\n",
    "        self.odometer_reading = 0\n",
    "\n",
    "    def get_descriptive_name(self):\n",
    "        \"\"\"Return a neatly formatted descriptive name.\"\"\"\n",
    "        long_name = f\"{self.year} {self.make} {self.model}\"\n",
    "        return long_name.title()\n",
    "    \n",
    "    def read_odometer(self):\n",
    "        \"\"\"Print a statement showing the car's mileage.\"\"\"\n",
    "        print(f\"This car has {self.odometer_reading} miles on it.\")\n",
    "    \n",
    "my_new_car = Car('audi', 'a4', 2024)\n",
    "print(my_new_car.get_descriptive_name())\n",
    "my_new_car.read_odometer()"
   ]
  },
  {
   "cell_type": "markdown",
   "metadata": {},
   "source": [
    "Modifying Attribute Values Directly"
   ]
  },
  {
   "cell_type": "code",
   "execution_count": 3,
   "metadata": {},
   "outputs": [
    {
     "name": "stdout",
     "output_type": "stream",
     "text": [
      "2024 Audi A4\n",
      "This car has 23 miles on it.\n"
     ]
    }
   ],
   "source": [
    "my_new_car = Car('audi', 'a4', 2024)\n",
    "print(my_new_car.get_descriptive_name())\n",
    "my_new_car.odometer_reading = 23\n",
    "my_new_car.read_odometer()"
   ]
  },
  {
   "cell_type": "markdown",
   "metadata": {},
   "source": [
    "Modifying an Attribute’s Value Through a Method"
   ]
  },
  {
   "cell_type": "code",
   "execution_count": 4,
   "metadata": {},
   "outputs": [
    {
     "name": "stdout",
     "output_type": "stream",
     "text": [
      "2024 Audi A4\n",
      "This car has 23 miles on it.\n"
     ]
    }
   ],
   "source": [
    "class Car:\n",
    "    \"\"\"A simple attempt to represent a car.\"\"\"\n",
    "\n",
    "    def __init__(self, make, model, year):\n",
    "        \"\"\"Initialize attributes to describe a car.\"\"\"\n",
    "        self.make = make\n",
    "        self.model = model\n",
    "        self.year = year\n",
    "        self.odometer_reading = 0\n",
    "\n",
    "    def get_descriptive_name(self):\n",
    "        \"\"\"Return a neatly formatted descriptive name.\"\"\"\n",
    "        long_name = f\"{self.year} {self.make} {self.model}\"\n",
    "        return long_name.title()\n",
    "    \n",
    "    def read_odometer(self):\n",
    "        \"\"\"Print a statement showing the car's mileage.\"\"\"\n",
    "        print(f\"This car has {self.odometer_reading} miles on it.\")\n",
    "\n",
    "    def update_odometer(self, mileage):\n",
    "        \"\"\"Set the odometer reading to the given value.\"\"\"\n",
    "        self.odometer_reading = mileage\n",
    "\n",
    "my_new_car = Car('audi', 'a4', 2024)\n",
    "print(my_new_car.get_descriptive_name())\n",
    "\n",
    "my_new_car.update_odometer(23)\n",
    "my_new_car.read_odometer()"
   ]
  },
  {
   "cell_type": "markdown",
   "metadata": {},
   "source": [
    "Exercise 9.4 to 9.5"
   ]
  },
  {
   "cell_type": "code",
   "execution_count": 6,
   "metadata": {},
   "outputs": [
    {
     "name": "stdout",
     "output_type": "stream",
     "text": [
      "\n",
      "the restaurant name is Manjaros and the cuisine is Halal\n",
      "Manjaros have served 5 customers\n"
     ]
    }
   ],
   "source": [
    "class Restaurant():\n",
    "    '''A class to initialize the restaurant name aand cuisine type'''\n",
    "\n",
    "    def __init__(self, restaurant_name, cuisine_type):\n",
    "        self.restaurant_name = restaurant_name\n",
    "        self.cuisine_type = cuisine_type\n",
    "        self.number_served = 5\n",
    "\n",
    "    def describe_restaurant(self):\n",
    "        '''Describes the restaurant'''\n",
    "        print(f\"The name of the restaurant is {self.restaurant_name} and the cuisine is {self.cuisine_type}\")\n",
    "        \n",
    "    def open_restaurant(self):\n",
    "        '''Displays if restaurant is open'''\n",
    "        print(f\"The restaurant is open\")\n",
    "\n",
    "food = Restaurant('Manjaros', 'Halal')\n",
    "\n",
    "\n",
    "\n",
    "print(f\"\\nthe restaurant name is {food.restaurant_name} and the cuisine is {food.cuisine_type}\")\n",
    "print(f\"{food.restaurant_name} have served {food.number_served} customers\")"
   ]
  },
  {
   "cell_type": "code",
   "execution_count": 9,
   "metadata": {},
   "outputs": [
    {
     "name": "stdout",
     "output_type": "stream",
     "text": [
      "Manjaros have served 500 customers\n"
     ]
    }
   ],
   "source": [
    "class Restaurant():\n",
    "    '''A class to initialize the restaurant name aand cuisine type'''\n",
    "\n",
    "    def __init__(self, restaurant_name, cuisine_type):\n",
    "        self.restaurant_name = restaurant_name\n",
    "        self.cuisine_type = cuisine_type\n",
    "\n",
    "    def describe_restaurant(self):\n",
    "        '''Describes the restaurant'''\n",
    "        print(f\"The name of the restaurant is {self.restaurant_name} and the cuisine is {self.cuisine_type}\")\n",
    "        \n",
    "    def open_restaurant(self):\n",
    "        '''Displays if restaurant is open'''\n",
    "        print(f\"The restaurant is open\")\n",
    "\n",
    "    def set_number_served(self, number_served):\n",
    "        '''Displays number of people served in the restaurant'''\n",
    "        self.number_served = number_served \n",
    "        print(f\"{self.restaurant_name} have served {self.number_served} customers\")\n",
    "\n",
    "food = Restaurant('Manjaros', 'Halal')\n",
    "\n",
    "food.set_number_served(500)\n",
    "\n"
   ]
  },
  {
   "cell_type": "code",
   "execution_count": 16,
   "metadata": {},
   "outputs": [
    {
     "name": "stdout",
     "output_type": "stream",
     "text": [
      "Manjaros have served 500 customers\n",
      "Manjaros have served a total of 700 customer\n"
     ]
    }
   ],
   "source": [
    "class Restaurant():\n",
    "    '''A class to initialize the restaurant name aand cuisine type'''\n",
    "\n",
    "    def __init__(self, restaurant_name, cuisine_type):\n",
    "        self.restaurant_name = restaurant_name\n",
    "        self.cuisine_type = cuisine_type\n",
    "        #self.number_served = 0\n",
    "\n",
    "    def describe_restaurant(self):\n",
    "        '''Describes the restaurant'''\n",
    "        print(f\"The name of the restaurant is {self.restaurant_name} and the cuisine is {self.cuisine_type}\")\n",
    "        \n",
    "    def open_restaurant(self):\n",
    "        '''Displays if restaurant is open'''\n",
    "        print(f\"The restaurant is open\")\n",
    "\n",
    "    def read_number_served(self):\n",
    "        '''Displays the total number os served customers'''\n",
    "        print(f\"{self.restaurant_name} have served a total of {self.number_served} customer\")\n",
    "\n",
    "    def set_number_served(self, number_served):\n",
    "        '''Displays number of people served in the restaurant'''\n",
    "        self.number_served = number_served \n",
    "        print(f\"{self.restaurant_name} have served {self.number_served} customers\")\n",
    "\n",
    "    def increment_number_served(self, increase):\n",
    "        '''sums the number of people served'''\n",
    "        self.number_served += increase\n",
    "\n",
    "food = Restaurant('Manjaros', 'Halal')\n",
    "food.set_number_served(500)\n",
    "food.increment_number_served(200)\n",
    "food.read_number_served()"
   ]
  },
  {
   "cell_type": "code",
   "execution_count": 24,
   "metadata": {},
   "outputs": [
    {
     "name": "stdout",
     "output_type": "stream",
     "text": [
      "you have attempted to login 1 time\n",
      "you have attempted to login 2 time\n",
      "you have attempted to login 3 time\n",
      "your login attempt have been reset to 0\n"
     ]
    }
   ],
   "source": [
    "class User():\n",
    "    '''A class for user profile'''\n",
    "    def __init__(self, first_name, last_name, hobby, city):\n",
    "        '''Displays user info'''\n",
    "        self.first_name = first_name\n",
    "        self.last_name = last_name\n",
    "        self.hobby = hobby\n",
    "        self.city = city\n",
    "        self.login_attempt = 0\n",
    "\n",
    "    def describe_user(self):\n",
    "        '''decribes the user'''\n",
    "        print(f\"\\nYour details are:\")\n",
    "        print(f\"First_name : {self.first_name.title()}, last_name : {self.last_name.title()}\")\n",
    "        print(f\"You live in {self.city} and your hobby is {self.hobby}\")\n",
    "\n",
    "    def greet_user(self):\n",
    "        '''greets user'''\n",
    "        print(f\"welcome {self.first_name.title()}\")\n",
    "\n",
    "    def increment_login_attempts(self):\n",
    "        '''Displays number of login attempts'''\n",
    "        self.login_attempt += 1\n",
    "        print(f\"you have attempted to login {self.login_attempt} time\")\n",
    "\n",
    "    def reset_login_attempts(self):\n",
    "        '''Resets the login attempt'''\n",
    "        self.login_attempt = 0\n",
    "        print(f\"your login attempt have been reset to {self.login_attempt}\")\n",
    "\n",
    "\n",
    "name = User('lateefat', 'arogundade', 'sleeping', 'Leeds')\n",
    "name.increment_login_attempts()\n",
    "name.increment_login_attempts()\n",
    "name.increment_login_attempts()\n",
    "name.reset_login_attempts()"
   ]
  },
  {
   "cell_type": "markdown",
   "metadata": {},
   "source": [
    "inheritance"
   ]
  },
  {
   "cell_type": "code",
   "execution_count": 25,
   "metadata": {},
   "outputs": [
    {
     "name": "stdout",
     "output_type": "stream",
     "text": [
      "2024 Nissan Leaf\n"
     ]
    }
   ],
   "source": [
    "class Car:\n",
    "    \"\"\"A simple attempt to represent a car.\"\"\"\n",
    "\n",
    "    def __init__(self, make, model, year):\n",
    "        \"\"\"Initialize attributes to describe a car.\"\"\"\n",
    "        self.make = make\n",
    "        self.model = model\n",
    "        self.year = year\n",
    "        self.odometer_reading = 0\n",
    "\n",
    "    def get_descriptive_name(self):\n",
    "        \"\"\"Return a neatly formatted descriptive name.\"\"\"\n",
    "        long_name = f\"{self.year} {self.make} {self.model}\"\n",
    "        return long_name.title()\n",
    "    \n",
    "    def read_odometer(self):\n",
    "        \"\"\"Print a statement showing the car's mileage.\"\"\"\n",
    "        print(f\"This car has {self.odometer_reading} miles on it.\")\n",
    "\n",
    "    def update_odometer(self, mileage):\n",
    "        \"\"\"Set the odometer reading to the given value.\"\"\"\n",
    "        if mileage >= self.odometer_reading:\n",
    "            self.odometer_reading = mileage\n",
    "        else:\n",
    "            print(\"You can't roll back an odometer!\")\n",
    "\n",
    "    def increment_odometer(self, miles):\n",
    "        \"\"\"Add the given amount to the odometer reading.\"\"\"\n",
    "        self.odometer_reading += miles\n",
    "\n",
    "class ElectricCar(Car):\n",
    "    \"\"\"Represent aspects of a car, specific to electric vehicles.\"\"\"\n",
    "\n",
    "    def __init__(self, make, model, year):\n",
    "        \"\"\"Initialize attributes of the parent class.\"\"\"\n",
    "        super().__init__(make, model, year)\n",
    "        \n",
    "my_leaf = ElectricCar('nissan', 'leaf', 2024)\n",
    "print(my_leaf.get_descriptive_name())"
   ]
  },
  {
   "cell_type": "markdown",
   "metadata": {},
   "source": [
    "Defining Attributes and Methods for the Child Class"
   ]
  },
  {
   "cell_type": "code",
   "execution_count": 26,
   "metadata": {},
   "outputs": [
    {
     "name": "stdout",
     "output_type": "stream",
     "text": [
      "2024 Nissan Leaf\n",
      "This car has a 40-kWh battery.\n"
     ]
    }
   ],
   "source": [
    "class ElectricCar(Car):\n",
    "    \"\"\"Represent aspects of a car, specific to electric vehicles.\"\"\"\n",
    "\n",
    "    def __init__(self, make, model, year):\n",
    "        \"\"\"\n",
    "        Initialize attributes of the parent class.\n",
    "        Then initialize attributes specific to an electric car.\n",
    "        \"\"\"\n",
    "        super().__init__(make, model, year)\n",
    "        self.battery_size = 40\n",
    "        \n",
    "    def describe_battery(self):\n",
    "        \"\"\"Print a statement describing the battery size.\"\"\"\n",
    "        print(f\"This car has a {self.battery_size}-kWh battery.\")\n",
    "\n",
    "my_leaf = ElectricCar('nissan', 'leaf', 2024)\n",
    "print(my_leaf.get_descriptive_name())\n",
    "my_leaf.describe_battery()"
   ]
  },
  {
   "cell_type": "markdown",
   "metadata": {},
   "source": [
    "Overriding Methods from the Parent Class\n",
    "You can override any method from the parent class that doesn’t fit what you’re trying to model with the child class. To do this, you define a method in the child class with the same name as the method you want to override in the parent class"
   ]
  },
  {
   "cell_type": "markdown",
   "metadata": {},
   "source": [
    "Instances as Attributes \n",
    "\n",
    "You can break your large class into smaller classes that work together; this approach is called composition.\n",
    "For example, if we continue adding detail to the ElectricCar class, we might notice that we’re adding many attributes and methods specific to the car’s battery. When we see this happening, we can stop and move those attributes and methods to a separate class called Battery. Then we can use a Battery instance as an attribute in the ElectricCar class:"
   ]
  },
  {
   "cell_type": "code",
   "execution_count": 28,
   "metadata": {},
   "outputs": [
    {
     "name": "stdout",
     "output_type": "stream",
     "text": [
      "2024 Nissan Leaf\n",
      "This car has a 40-kWh battery.\n",
      "This car can go about 150 miles on a full charge.\n"
     ]
    }
   ],
   "source": [
    "class Battery:\n",
    "    \"\"\"A simple attempt to model a battery for an electric car.\"\"\"\n",
    "    def __init__(self, battery_size=40):\n",
    "        \"\"\"Initialize the battery's attributes.\"\"\"\n",
    "        self.battery_size = battery_size\n",
    "\n",
    "    def describe_battery(self):\n",
    "        \"\"\"Print a statement describing the battery size.\"\"\"\n",
    "        print(f\"This car has a {self.battery_size}-kWh battery.\")\n",
    "\n",
    "    def get_range(self):\n",
    "        \"\"\"Print a statement about the range this battery provides.\"\"\"\n",
    "        if self.battery_size == 40:\n",
    "            range = 150\n",
    "        elif self.battery_size == 65:\n",
    "            range = 225\n",
    "        print(f\"This car can go about {range} miles on a full charge.\")\n",
    "\n",
    "class ElectricCar(Car):\n",
    "    \"\"\"Represent aspects of a car, specific to electric vehicles.\"\"\"\n",
    "    def __init__(self, make, model, year):\n",
    "        \"\"\"\n",
    "        Initialize attributes of the parent class.\n",
    "        Then initialize attributes specific to an electric car.\n",
    "        \"\"\"\n",
    "        super().__init__(make, model, year)\n",
    "        self.battery = Battery()\n",
    "\n",
    "my_leaf = ElectricCar('nissan', 'leaf', 2024)\n",
    "print(my_leaf.get_descriptive_name())\n",
    "my_leaf.battery.describe_battery()\n",
    "my_leaf.battery.get_range()"
   ]
  },
  {
   "cell_type": "markdown",
   "metadata": {},
   "source": [
    "Exercise 9.6 to 9.9"
   ]
  },
  {
   "cell_type": "code",
   "execution_count": 5,
   "metadata": {},
   "outputs": [
    {
     "name": "stdout",
     "output_type": "stream",
     "text": [
      "The available ice cream flavors are:\n",
      "vanilla\n",
      "strawberry\n",
      "tasty time\n"
     ]
    }
   ],
   "source": [
    "class Restaurant():\n",
    "    '''A class to initialize the restaurant name aand cuisine type'''\n",
    "\n",
    "    def __init__(self, restaurant_name, cuisine_type):\n",
    "        self.restaurant_name = restaurant_name\n",
    "        self.cuisine_type = cuisine_type\n",
    "       \n",
    "    def describe_restaurant(self):\n",
    "        '''Describes the restaurant'''\n",
    "        print(f\"The name of the restaurant is {self.restaurant_name} and the cuisine is {self.cuisine_type}\")\n",
    "        \n",
    "    def open_restaurant(self):\n",
    "        '''Displays if restaurant is open'''\n",
    "        print(f\"The restaurant is open\")\n",
    "\n",
    "class IceCreamStand(Restaurant):\n",
    "    '''Represents a specific kind of restaurant'''\n",
    "    def __init__(self, restaurant_name, cuisine_type):\n",
    "        '''\n",
    "        initialize attributes of the Rparent class\n",
    "        Then initialize attribute specific to the child class\n",
    "        '''\n",
    "        super(). __init__(restaurant_name, cuisine_type)\n",
    "        self.flavor = ['vanilla', 'strawberry'] \n",
    "    \n",
    "    def display_flavor(self):\n",
    "        '''Display the list of icecream flavors'''\n",
    "        print(\"The available ice cream flavors are:\")\n",
    "        for flavor in self.flavor:\n",
    "            print (flavor)\n",
    "\n",
    "new_restaurant = IceCreamStand('tasty time', 'dessert')\n",
    "\n",
    "new_restaurant.display_flavor()\n",
    "print(new_restaurant.restaurant_name)"
   ]
  },
  {
   "cell_type": "code",
   "execution_count": 9,
   "metadata": {},
   "outputs": [
    {
     "name": "stdout",
     "output_type": "stream",
     "text": [
      "welcome Jide\n",
      "\n",
      "Your details are:\n",
      "First_name : Jide, last_name : Akin\n",
      "You live in lagos and your hobby is reading\n",
      "\n",
      "The admin privileges include:\n",
      "can add post\n",
      "can delete post\n",
      "can ban user\n"
     ]
    }
   ],
   "source": [
    "class User():\n",
    "    '''A class for user profile'''\n",
    "    def __init__(self, first_name, last_name, hobby, city):\n",
    "        '''Displays user info'''\n",
    "        self.first_name = first_name\n",
    "        self.last_name = last_name\n",
    "        self.hobby = hobby\n",
    "        self.city = city\n",
    "        self.login_attempt = 0\n",
    "\n",
    "    def describe_user(self):\n",
    "        '''decribes the user'''\n",
    "        print(f\"\\nYour details are:\")\n",
    "        print(f\"First_name : {self.first_name.title()}, last_name : {self.last_name.title()}\")\n",
    "        print(f\"You live in {self.city} and your hobby is {self.hobby}\")\n",
    "\n",
    "    def greet_user(self):\n",
    "        '''greets user'''\n",
    "        print(f\"welcome {self.first_name.title()}\")\n",
    "\n",
    "class Admin(User):\n",
    "    '''A class for the admin'''\n",
    "    def __init__ (self, first_name, last_name, hobby, city):\n",
    "        '''inherits the attributes of the  User class'''\n",
    "        super(). __init__ (first_name, last_name, hobby, city)\n",
    "        self.privileges = ['can add post', 'can delete post', 'can ban user']\n",
    "    \n",
    "    def show_privileges(self):\n",
    "        '''lists the administartaors set of privileges'''\n",
    "        print(\"\\nThe admin privileges include:\")\n",
    "        for privilege in self.privileges:\n",
    "            print(privilege)\n",
    "\n",
    "new_user = Admin('jide', 'akin', 'reading', 'lagos')\n",
    "new_user.greet_user()\n",
    "new_user.describe_user()\n",
    "new_user.show_privileges()"
   ]
  },
  {
   "cell_type": "code",
   "execution_count": 13,
   "metadata": {},
   "outputs": [
    {
     "name": "stdout",
     "output_type": "stream",
     "text": [
      "welcome Jide\n",
      "\n",
      "Your details are:\n",
      "First_name : Jide, last_name : Akin\n",
      "You live in lagos and your hobby is reading\n",
      "\n",
      "The admin privileges include:\n",
      "can add post\n",
      "can delete post\n",
      "can ban user\n"
     ]
    }
   ],
   "source": [
    "class Priviledges():\n",
    "    '''Displays admin privileges'''\n",
    "    def __init__ (self):\n",
    "        '''stores a list of string'''\n",
    "        self.privileges = ['can add post', 'can delete post', 'can ban user']\n",
    "\n",
    "    def show_privileges(self):\n",
    "        '''displays the privileges'''\n",
    "        print(\"\\nThe admin privileges include:\")\n",
    "        for privilege in self.privileges:\n",
    "            print(privilege)\n",
    "\n",
    "class Admin(User):\n",
    "    '''A class for the admin'''\n",
    "    def __init__ (self, first_name, last_name, hobby, city):\n",
    "        '''inherits the attributes of the  User class'''\n",
    "        super(). __init__ (first_name, last_name, hobby, city)\n",
    "        self.privileges = Priviledges()\n",
    "   \n",
    "\n",
    "new_user = Admin('jide', 'akin', 'reading', 'lagos')\n",
    "new_user.greet_user()\n",
    "new_user.describe_user()\n",
    "new_user.privileges.show_privileges()\n"
   ]
  },
  {
   "cell_type": "code",
   "execution_count": 15,
   "metadata": {},
   "outputs": [],
   "source": [
    "class Car:\n",
    "    \"\"\"A simple attempt to represent a car.\"\"\"\n",
    "\n",
    "    def __init__(self, make, model, year):\n",
    "        \"\"\"Initialize attributes to describe a car.\"\"\"\n",
    "        self.make = make\n",
    "        self.model = model\n",
    "        self.year = year\n",
    "        self.odometer_reading = 0\n",
    "\n",
    "    def get_descriptive_name(self):\n",
    "        \"\"\"Return a neatly formatted descriptive name.\"\"\"\n",
    "        long_name = f\"{self.year} {self.make} {self.model}\"\n",
    "        return long_name.title()\n",
    "    \n",
    "    def read_odometer(self):\n",
    "        \"\"\"Print a statement showing the car's mileage.\"\"\"\n",
    "        print(f\"This car has {self.odometer_reading} miles on it.\")\n",
    "\n",
    "    def update_odometer(self, mileage):\n",
    "        \"\"\"Set the odometer reading to the given value.\"\"\"\n",
    "        if mileage >= self.odometer_reading:\n",
    "            self.odometer_reading = mileage\n",
    "        else:\n",
    "            print(\"You can't roll back an odometer!\")\n",
    "\n",
    "    def increment_odometer(self, miles):\n",
    "        \"\"\"Add the given amount to the odometer reading.\"\"\"\n",
    "        self.odometer_reading += miles"
   ]
  },
  {
   "cell_type": "code",
   "execution_count": 18,
   "metadata": {},
   "outputs": [
    {
     "name": "stdout",
     "output_type": "stream",
     "text": [
      "2024 Nissan Leaf\n",
      "This car has a 40-kWh battery.\n",
      "This car can go about 150 miles on a full charge.\n",
      "Your battery size have been upgraded\n",
      "This car can go about 225 miles on a full charge.\n"
     ]
    }
   ],
   "source": [
    "class Battery:\n",
    "    \"\"\"A simple attempt to model a battery for an electric car.\"\"\"\n",
    "    def __init__(self, battery_size=40):\n",
    "        \"\"\"Initialize the battery's attributes.\"\"\"\n",
    "        self.battery_size = battery_size\n",
    "\n",
    "    def describe_battery(self):\n",
    "        \"\"\"Print a statement describing the battery size.\"\"\"\n",
    "        print(f\"This car has a {self.battery_size}-kWh battery.\")\n",
    "\n",
    "    def get_range(self):\n",
    "        \"\"\"Print a statement about the range this battery provides.\"\"\"\n",
    "        if self.battery_size == 40:\n",
    "            range = 150\n",
    "        elif self.battery_size == 65:\n",
    "            range = 225\n",
    "        print(f\"This car can go about {range} miles on a full charge.\")\n",
    "\n",
    "    def upgrade_battery(self):\n",
    "        '''check battery size and set capacity to 65'''\n",
    "        if self.battery_size < 65:\n",
    "            self.battery_size = 65\n",
    "        print(\"Your battery size have been upgraded\")\n",
    "\n",
    "class ElectricCar(Car):\n",
    "    \"\"\"Represent aspects of a car, specific to electric vehicles.\"\"\"\n",
    "    def __init__(self, make, model, year):\n",
    "        \"\"\"\n",
    "        Initialize attributes of the parent class.\n",
    "        Then initialize attributes specific to an electric car.\n",
    "        \"\"\"\n",
    "        super().__init__(make, model, year)\n",
    "        self.battery = Battery()\n",
    "\n",
    "my_leaf = ElectricCar('nissan', 'leaf', 2024)\n",
    "print(my_leaf.get_descriptive_name())\n",
    "my_leaf.battery.describe_battery()\n",
    "my_leaf.battery.get_range()\n",
    "my_leaf.battery.upgrade_battery()\n",
    "my_leaf.battery.get_range()"
   ]
  },
  {
   "cell_type": "markdown",
   "metadata": {},
   "source": [
    "Importing Classes"
   ]
  },
  {
   "cell_type": "code",
   "execution_count": null,
   "metadata": {},
   "outputs": [],
   "source": []
  }
 ],
 "metadata": {
  "kernelspec": {
   "display_name": "Python 3",
   "language": "python",
   "name": "python3"
  },
  "language_info": {
   "codemirror_mode": {
    "name": "ipython",
    "version": 3
   },
   "file_extension": ".py",
   "mimetype": "text/x-python",
   "name": "python",
   "nbconvert_exporter": "python",
   "pygments_lexer": "ipython3",
   "version": "3.12.0"
  }
 },
 "nbformat": 4,
 "nbformat_minor": 2
}
